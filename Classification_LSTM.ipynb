{
 "cells": [
  {
   "cell_type": "code",
   "execution_count": null,
   "id": "5c351b43",
   "metadata": {},
   "outputs": [],
   "source": [
    "import pandas as pd\n",
    "from sklearn.preprocessing import LabelEncoder\n",
    "from tensorflow.keras.preprocessing.text import Tokenizer\n",
    "from tensorflow.keras.preprocessing.sequence import pad_sequences\n",
    "from tensorflow.keras.models import Sequential\n",
    "from tensorflow.keras.layers import Embedding, LSTM, Dense, Dropout\n",
    "from tensorflow.keras.callbacks import EarlyStopping\n",
    "from sklearn.metrics import classification_report"
   ]
  },
  {
   "cell_type": "code",
   "execution_count": null,
   "id": "da85bf6c",
   "metadata": {},
   "outputs": [],
   "source": [
    "# importer des datas\n",
    "data = pd.read_csv('data.csv')"
   ]
  },
  {
   "cell_type": "code",
   "execution_count": null,
   "id": "e20381a3",
   "metadata": {},
   "outputs": [],
   "source": [
    "# choisir aléatoirement 1000 échantillons de chaque type comme training datas, 200 comme testing data\n",
    "train_data = data.groupby('category').sample(n=1000, random_state=42)\n",
    "test_data = data.groupby('category').sample(n=200, random_state=42)"
   ]
  },
  {
   "cell_type": "code",
   "execution_count": null,
   "id": "76228ccd",
   "metadata": {},
   "outputs": [],
   "source": [
    "# caractéristique et label\n",
    "X_train, y_train = train_data['description'], train_data['category']\n",
    "X_test, y_test = test_data['description'], test_data['category']"
   ]
  },
  {
   "cell_type": "code",
   "execution_count": null,
   "id": "5145efd2",
   "metadata": {},
   "outputs": [],
   "source": [
    "# encodgae de label\n",
    "label_encoder = LabelEncoder()\n",
    "y_train = label_encoder.fit_transform(y_train)\n",
    "y_test = label_encoder.transform(y_test)"
   ]
  },
  {
   "cell_type": "code",
   "execution_count": null,
   "id": "2ccbc972",
   "metadata": {},
   "outputs": [],
   "source": [
    "# vectorizer\n",
    "tokenizer = Tokenizer(num_words=5000)\n",
    "tokenizer.fit_on_texts(X_train)\n",
    "\n",
    "X_train = pad_sequences(tokenizer.texts_to_sequences(X_train), maxlen=200)\n",
    "X_test = pad_sequences(tokenizer.texts_to_sequences(X_test), maxlen=200)"
   ]
  },
  {
   "cell_type": "code",
   "execution_count": null,
   "id": "26de9c5b",
   "metadata": {},
   "outputs": [],
   "source": [
    "# paramètres de modèle\n",
    "vocab_size = len(tokenizer.word_index) + 1  # taille de vocabulaire\n",
    "embedding_dim = 128  # embedding layer\n",
    "lstm_units = 128  # nombre de \"units\" de LSTM"
   ]
  },
  {
   "cell_type": "code",
   "execution_count": null,
   "id": "fe7d0458",
   "metadata": {},
   "outputs": [],
   "source": [
    "# construction de modèle\n",
    "model = Sequential()\n",
    "model.add(Embedding(vocab_size, embedding_dim, input_length=200))\n",
    "model.add(LSTM(lstm_units, dropout=0.2, recurrent_dropout=0.2))\n",
    "model.add(Dense(4, activation='softmax'))\n",
    "\n",
    "model.compile(optimizer='adam', loss='sparse_categorical_crossentropy', metrics=['accuracy'])\n",
    "\n",
    "model.summary()\n",
    "# des paramètres\n",
    "batch_size = 64\n",
    "epochs = 10"
   ]
  },
  {
   "cell_type": "code",
   "execution_count": null,
   "id": "77029da9",
   "metadata": {},
   "outputs": [],
   "source": [
    "# enrtraînement\n",
    "history = model.fit(X_train, y_train, batch_size=batch_size, epochs=epochs, validation_data=(X_test, y_test), callbacks=[EarlyStopping(monitor='val_loss', patience=3, min_delta=0.0001)])\n",
    "import matplotlib.pyplot as plt\n",
    "from sklearn.metrics import confusion_matrix, accuracy_score\n",
    "import seaborn as sns"
   ]
  },
  {
   "cell_type": "code",
   "execution_count": null,
   "id": "1a0f9fef",
   "metadata": {},
   "outputs": [],
   "source": [
    "# prédiction\n",
    "y_pred = model.predict(X_test)\n",
    "y_pred = y_pred.argmax(axis=1)"
   ]
  },
  {
   "cell_type": "code",
   "execution_count": null,
   "id": "302eddbd",
   "metadata": {},
   "outputs": [],
   "source": [
    "# calculer\n",
    "from sklearn.metrics import classification_report\n",
    "report = classification_report(y_test, y_pred, target_names=label_encoder.classes_)\n",
    "print(report)"
   ]
  },
  {
   "cell_type": "code",
   "execution_count": null,
   "id": "42b1c199",
   "metadata": {},
   "outputs": [],
   "source": [
    "# matrix\n",
    "conf_matrix = confusion_matrix(y_test, y_pred)\n",
    "sns.heatmap(conf_matrix, annot=True, fmt='d', cmap='Blues')\n",
    "plt.rcParams['font.sans-serif']=['SimHei'] #affichier des étiquettes en chinois\n",
    "plt.ylabel('catégorie réel')\n",
    "plt.xlabel('catégorie prédite')\n",
    "plt.show()"
   ]
  }
 ],
 "metadata": {
  "kernelspec": {
   "display_name": "Python 3 (ipykernel)",
   "language": "python",
   "name": "python3"
  },
  "language_info": {
   "codemirror_mode": {
    "name": "ipython",
    "version": 3
   },
   "file_extension": ".py",
   "mimetype": "text/x-python",
   "name": "python",
   "nbconvert_exporter": "python",
   "pygments_lexer": "ipython3",
   "version": "3.9.7"
  }
 },
 "nbformat": 4,
 "nbformat_minor": 5
}
