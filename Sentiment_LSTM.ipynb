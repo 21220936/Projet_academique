{
 "cells": [
  {
   "cell_type": "code",
   "execution_count": null,
   "id": "85fce21c",
   "metadata": {},
   "outputs": [],
   "source": [
    "import pandas as pd\n",
    "from sklearn.preprocessing import LabelEncoder\n",
    "from tensorflow.keras.preprocessing.text import Tokenizer\n",
    "from tensorflow.keras.preprocessing.sequence import pad_sequences\n",
    "from tensorflow.keras.models import Sequential\n",
    "from tensorflow.keras.layers import Embedding, LSTM, Dense, Dropout\n",
    "from tensorflow.keras.callbacks import EarlyStopping\n",
    "from sklearn.metrics import classification_report"
   ]
  },
  {
   "cell_type": "code",
   "execution_count": null,
   "id": "f9ddee82",
   "metadata": {},
   "outputs": [],
   "source": [
    "# importer des datas\n",
    "sent_data = pd.read_csv('sentiment_data.csv')"
   ]
  },
  {
   "cell_type": "code",
   "execution_count": null,
   "id": "5df0cf22",
   "metadata": {},
   "outputs": [],
   "source": [
    "# séparer le dataset\n",
    "train_data = sentiment_data.sample(frac=0.8, random_state=42)\n",
    "test_data = sentiment_data.drop(train_data.index)"
   ]
  },
  {
   "cell_type": "code",
   "execution_count": null,
   "id": "4ea1add0",
   "metadata": {},
   "outputs": [],
   "source": [
    "# caractéristique et label\n",
    "X_train, y_train = train_data['text'], train_data['sentiment']\n",
    "X_test, y_test = test_data['text'], test_data['sentiment']"
   ]
  },
  {
   "cell_type": "code",
   "execution_count": null,
   "id": "d38b55ec",
   "metadata": {},
   "outputs": [],
   "source": [
    "# encodgae de label\n",
    "label_encoder = LabelEncoder()\n",
    "y_train = label_encoder.fit_transform(y_train)\n",
    "y_test = label_encoder.transform(y_test)"
   ]
  },
  {
   "cell_type": "code",
   "execution_count": null,
   "id": "3f146dfa",
   "metadata": {},
   "outputs": [],
   "source": [
    "# vectorizer\n",
    "tokenizer = Tokenizer(num_words=5000)\n",
    "tokenizer.fit_on_texts(X_train)\n",
    "\n",
    "X_train = pad_sequences(tokenizer.texts_to_sequences(X_train), maxlen=200)\n",
    "X_test = pad_sequences(tokenizer.texts_to_sequences(X_test), maxlen=200)"
   ]
  },
  {
   "cell_type": "code",
   "execution_count": null,
   "id": "aca32c63",
   "metadata": {},
   "outputs": [],
   "source": [
    "# paramètres de modèle\n",
    "vocab_size = len(tokenizer.word_index) + 1  # taille de vocabulaire\n",
    "embedding_dim = 128  # embedding layer\n",
    "lstm_units = 128  # nombre de \"units\" de LSTM"
   ]
  },
  {
   "cell_type": "code",
   "execution_count": null,
   "id": "e84e29a6",
   "metadata": {},
   "outputs": [],
   "source": [
    "# construction de modèle\n",
    "model = Sequential()\n",
    "model.add(Embedding(vocab_size, embedding_dim, input_length=200))\n",
    "model.add(LSTM(lstm_units, dropout=0.2, recurrent_dropout=0.2))\n",
    "model.add(Dense(1, activation='sigmoid'))\n",
    "\n",
    "model.compile(optimizer='adam', loss='binary_crossentropy', metrics=['accuracy'])\n",
    "\n",
    "\n",
    "model.summary()\n",
    "# des paramètres\n",
    "batch_size = 64\n",
    "epochs = 10"
   ]
  },
  {
   "cell_type": "code",
   "execution_count": null,
   "id": "edd9b131",
   "metadata": {},
   "outputs": [],
   "source": [
    "# enrtraînement\n",
    "history = model.fit(X_train, y_train, batch_size=batch_size, epochs=epochs, validation_data=(X_test, y_test), callbacks=[EarlyStopping(monitor='val_loss', patience=3, min_delta=0.0001)])\n",
    "import matplotlib.pyplot as plt\n",
    "from sklearn.metrics import confusion_matrix, accuracy_score\n",
    "import seaborn as sns"
   ]
  },
  {
   "cell_type": "code",
   "execution_count": null,
   "id": "af7f05e0",
   "metadata": {},
   "outputs": [],
   "source": [
    "# prédiction\n",
    "y_pred = model.predict(X_test)\n",
    "y_pred = y_pred.argmax(axis=1)"
   ]
  },
  {
   "cell_type": "code",
   "execution_count": null,
   "id": "e29cb71d",
   "metadata": {},
   "outputs": [],
   "source": [
    "# calculer\n",
    "report = classification_report(y_test, y_pred, target_names=label_encoder.classes_)\n",
    "print(report)"
   ]
  },
  {
   "cell_type": "code",
   "execution_count": null,
   "id": "6f1a8c04",
   "metadata": {},
   "outputs": [],
   "source": [
    "# matrix\n",
    "conf_matrix = confusion_matrix(y_test, y_pred)\n",
    "sns.heatmap(conf_matrix, annot=True, fmt='d', cmap='Blues')\n",
    "plt.rcParams['font.sans-serif']=['SimHei'] #affichier des étiquettes en chinois\n",
    "plt.ylabel('catégorie réel')\n",
    "plt.xlabel('catégorie prédite')\n",
    "plt.show()"
   ]
  }
 ],
 "metadata": {
  "kernelspec": {
   "display_name": "Python 3 (ipykernel)",
   "language": "python",
   "name": "python3"
  },
  "language_info": {
   "codemirror_mode": {
    "name": "ipython",
    "version": 3
   },
   "file_extension": ".py",
   "mimetype": "text/x-python",
   "name": "python",
   "nbconvert_exporter": "python",
   "pygments_lexer": "ipython3",
   "version": "3.9.7"
  }
 },
 "nbformat": 4,
 "nbformat_minor": 5
}
